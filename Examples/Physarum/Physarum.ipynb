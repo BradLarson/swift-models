{
  "nbformat": 4,
  "nbformat_minor": 0,
  "metadata": {
    "colab": {
      "name": "Physarum.ipynb",
      "provenance": [],
      "collapsed_sections": []
    },
    "kernelspec": {
      "display_name": "Swift",
      "language": "swift",
      "name": "swift"
    },
    "language_info": {
      "file_extension": ".swift",
      "mimetype": "text/x-swift",
      "name": "swift",
      "version": ""
    },
    "accelerator": "GPU"
  },
  "cells": [
    {
      "cell_type": "markdown",
      "metadata": {
        "id": "9TV7IYeqifSv"
      },
      "source": [
        "##### Copyright 2020 The TensorFlow Authors. [Licensed under the Apache License, Version 2.0](#scrollTo=ByZjmtFgB_Y5)."
      ]
    },
    {
      "cell_type": "code",
      "metadata": {
        "id": "kZRlD4utdPuX"
      },
      "source": [
        "%install-location $cwd/swift-install\n",
        "%install '.package(url: \"https://github.com/tensorflow/swift-models\", .branch(\"master\"))' ModelSupport\n",
        "print(\"\\u{001B}[2J\")"
      ],
      "execution_count": null,
      "outputs": []
    },
    {
      "cell_type": "code",
      "metadata": {
        "id": "tRIJp_4m_Afz"
      },
      "source": [
        "// #@title Licensed under the Apache License, Version 2.0 (the \"License\"); { display-mode: \"form\" }\n",
        "// Licensed under the Apache License, Version 2.0 (the \"License\");\n",
        "// you may not use this file except in compliance with the License.\n",
        "// You may obtain a copy of the License at\n",
        "//\n",
        "// https://www.apache.org/licenses/LICENSE-2.0\n",
        "//\n",
        "// Unless required by applicable law or agreed to in writing, software\n",
        "// distributed under the License is distributed on an \"AS IS\" BASIS,\n",
        "// WITHOUT WARRANTIES OR CONDITIONS OF ANY KIND, either express or implied.\n",
        "// See the License for the specific language governing permissions and\n",
        "// limitations under the License."
      ],
      "execution_count": null,
      "outputs": []
    },
    {
      "cell_type": "markdown",
      "metadata": {
        "id": "sI1ZtrdiA4aY"
      },
      "source": [
        "<table class=\"tfo-notebook-buttons\" align=\"left\">\n",
        " <td>\n",
        "  <a target=\"_blank\" href=\"https://colab.research.google.com/github/BradLarson/swift-models/blob/Physarum/Examples/Physarum/Physarum.ipynb\"><img src=\"https://www.tensorflow.org/images/colab_logo_32px.png\" />Run in Google Colab</a>\n",
        " </td>\n",
        " <td>\n",
        "  <a target=\"_blank\" href=\"https://github.com/BradLarson/swift-models/blob/Physarum/Examples/Physarum/Physarum.ipynb\"><img src=\"https://www.tensorflow.org/images/GitHub-Mark-32px.png\" />View source on GitHub</a>\n",
        " </td>\n",
        "</table>"
      ]
    },
    {
      "cell_type": "markdown",
      "metadata": {
        "id": "8sa42_NblqRE"
      },
      "source": [
        "# Physarum\n",
        "\n",
        "This is an implementation in Swift for TensorFlow of the [Physarum transport model](https://www.sagejenson.com/physarum) described by Sage Jenson, inspired by [“Characteristics of pattern formation and evolution in approximations of Physarum transport networks.”](http://eprints.uwe.ac.uk/15260/1/artl.2010.16.2.pdf)"
      ]
    },
    {
      "cell_type": "markdown",
      "metadata": {
        "id": "W7MpNcIwIIy8"
      },
      "source": [
        "## Device setup and model parameters\n",
        "\n",
        "We'll start by importing the appropriate modules:"
      ]
    },
    {
      "cell_type": "code",
      "metadata": {
        "id": "OHRTNQJo1TxT"
      },
      "source": [
        "import Foundation\n",
        "import TensorFlow\n",
        "import ModelSupport"
      ],
      "execution_count": null,
      "outputs": []
    },
    {
      "cell_type": "markdown",
      "metadata": {
        "id": "W5UYUqsW1oo8"
      },
      "source": [
        "Next, we'll configure the accelerator the tensor operations will run on."
      ]
    },
    {
      "cell_type": "code",
      "metadata": {
        "id": "FCMWR11NIIy-"
      },
      "source": [
        "let device = Device.defaultTFEager\n",
        "// let device = Device.defaultXLA\n",
        "// device"
      ],
      "execution_count": null,
      "outputs": []
    },
    {
      "cell_type": "markdown",
      "metadata": {
        "id": "Rh4WcQzIIvGa"
      },
      "source": [
        "To aid us in displaying images within the notebook, we'll use Swift's Python interoperability to set up an image display function."
      ]
    },
    {
      "cell_type": "code",
      "metadata": {
        "id": "W0IeaDuyIvaJ"
      },
      "source": [
        "import PythonKit\n",
        "\n",
        "%include \"EnableIPythonDisplay.swift\"\n",
        "IPythonDisplay.shell.enable_matplotlib(\"inline\")\n",
        "let display = Python.import(\"IPython.core.display\")\n",
        "\n",
        "func showImageFile(_ filename: String) {\n",
        "  display.Image(Python.open(filename, \"rb\").read()).display()\n",
        "}"
      ],
      "execution_count": null,
      "outputs": []
    },
    {
      "cell_type": "markdown",
      "metadata": {
        "id": "HrlMNOinIIy_"
      },
      "source": [
        "The following contains all model parameters used during training:"
      ]
    },
    {
      "cell_type": "code",
      "metadata": {
        "id": "NrRQhQaHaJm9"
      },
      "source": [
        "let gridSize = 512\n",
        "let particleCount = 1024\n",
        "let senseAngle = 0.20 * Float.pi\n",
        "let senseDistance: Float = 4.0\n",
        "let evaporationRate: Float = 0.95\n",
        "let moveAngle = 0.1 * Float.pi\n",
        "let moveStep: Float = 2.0\n",
        "let channelSize = 1"
      ],
      "execution_count": null,
      "outputs": []
    },
    {
      "cell_type": "markdown",
      "metadata": {
        "id": "rU0WY_sJodio"
      },
      "source": [
        "## The Physarum transport model\n",
        "\n"
      ]
    },
    {
      "cell_type": "markdown",
      "metadata": {
        "id": "i4MSHK5YDiAQ"
      },
      "source": [
        "Before we write the update step, we'll first set up a helper method for masking Tensor values:"
      ]
    },
    {
      "cell_type": "code",
      "metadata": {
        "id": "kqXILiXhq-iM"
      },
      "source": [
        "extension Tensor where Scalar: Numeric {\n",
        "  func mask(condition: (Tensor) -> Tensor<Bool>) -> Tensor {\n",
        "    let satisfied = condition(self)\n",
        "    return Tensor(zerosLike: self)\n",
        "      .replacing(with: Tensor(onesLike: self), where: satisfied)\n",
        "  }\n",
        "}"
      ],
      "execution_count": null,
      "outputs": []
    },
    {
      "cell_type": "markdown",
      "metadata": {
        "id": "SMOU77oLiyFx"
      },
      "source": [
        "as well as a function for converting an angle (in radians) into an X, Y displacement:"
      ]
    },
    {
      "cell_type": "code",
      "metadata": {
        "id": "ve4_tuycixJ-"
      },
      "source": [
        "func angleToVector(_ angle: Tensor<Float>) -> Tensor<Float> {\n",
        "  return Tensor(stacking: [cos(angle), sin(angle)], alongAxis: -1)\n",
        "}"
      ],
      "execution_count": null,
      "outputs": []
    },
    {
      "cell_type": "markdown",
      "metadata": {
        "id": "YhAtLRV6ItY3"
      },
      "source": [
        "At present, the Swift for TensorFlow API lacks high-level N-dimensional gathering and scattering, so we'll define those operators in terms of the lower-level _Raw APIs. These will be added soon, at which point this can be removed."
      ]
    },
    {
      "cell_type": "code",
      "metadata": {
        "id": "dUG7TXm-Itu3"
      },
      "source": [
        "extension Tensor where Scalar: TensorFlowFloatingPoint {\n",
        "  @inlinable\n",
        "  @differentiable(wrt: self)\n",
        "  public func dimensionGathering<Index: TensorFlowIndex>(\n",
        "    atIndices indices: Tensor<Index>\n",
        "  ) -> Tensor {\n",
        "    return _Raw.gatherNd(params: self, indices: indices)\n",
        "  }\n",
        "\n",
        "  @inlinable\n",
        "  @derivative(of: dimensionGathering)\n",
        "  func _vjpDimensionGathering<Index: TensorFlowIndex>(\n",
        "    atIndices indices: Tensor<Index>\n",
        "  ) -> (value: Tensor, pullback: (Tensor) -> Tensor) {\n",
        "    let shapeTensor = Tensor<Index>(self.shapeTensor)\n",
        "    let value = _Raw.gatherNd(params: self, indices: indices)\n",
        "    return (\n",
        "      value,\n",
        "      { v in\n",
        "        let dparams = _Raw.scatterNd(indices: indices, updates: v, shape: shapeTensor)\n",
        "        return dparams\n",
        "      }\n",
        "    )\n",
        "  }\n",
        "\n",
        "  @inlinable\n",
        "  @differentiable(wrt: self)\n",
        "  public func dimensionScattering<Index: TensorFlowIndex>(\n",
        "    atIndices indices: Tensor<Index>, shape: Tensor<Index>\n",
        "  ) -> Tensor {\n",
        "    return _Raw.scatterNd(indices: indices, updates: self, shape: shape)\n",
        "  }\n",
        "\n",
        "  @inlinable\n",
        "  @derivative(of: dimensionScattering)\n",
        "  func _vjpDimensionScattering<Index: TensorFlowIndex>(\n",
        "    atIndices indices: Tensor<Index>, shape: Tensor<Index>\n",
        "  ) -> (value: Tensor, pullback: (Tensor) -> Tensor) {\n",
        "    let value = _Raw.scatterNd(indices: indices, updates: self, shape: shape)\n",
        "    return (\n",
        "      value,\n",
        "      { v in\n",
        "        let dparams = _Raw.gatherNd(params: v, indices: indices)\n",
        "        return dparams\n",
        "      }\n",
        "    )\n",
        "  }\n",
        "}"
      ],
      "execution_count": null,
      "outputs": []
    },
    {
      "cell_type": "markdown",
      "metadata": {
        "id": "cwNDwzS2QgS1"
      },
      "source": [
        "We'll configure the initial state and some commonly reused variables:"
      ]
    },
    {
      "cell_type": "code",
      "metadata": {
        "id": "fEAEyUExXT3I"
      },
      "source": [
        "var grid = Tensor<Float>(zeros: [2, gridSize, gridSize], on: device)\n",
        "var positions = Tensor<Float>(randomUniform: [particleCount, 2], on: device) * Float(gridSize)\n",
        "var headings = Tensor<Float>(randomUniform: [particleCount], on: device) * 2.0 * Float.pi\n",
        "let gridShape = Tensor<Int32>(\n",
        "  shape: [2], scalars: [Int32(gridSize), Int32(gridSize)], on: device)\n",
        "let scatterValues = Tensor<Float>(ones: [particleCount], on: device)"
      ],
      "execution_count": null,
      "outputs": []
    },
    {
      "cell_type": "markdown",
      "metadata": {
        "id": "1pMewsl0VgnJ"
      },
      "source": [
        "I'm defining the stepping of the model all in one function, with a phase for specifying which half of the grid to update:"
      ]
    },
    {
      "cell_type": "code",
      "metadata": {
        "id": "eNzOdly3QY_P"
      },
      "source": [
        "func step(phase: Int) {\n",
        "  var currentGrid = grid[phase]\n",
        "  // Perceive\n",
        "  let senseDirection = headings.expandingShape(at: 1).broadcasted(to: [particleCount, 3])\n",
        "    + Tensor<Float>([-moveAngle, 0.0, moveAngle], on: device)\n",
        "  let sensingOffset = angleToVector(senseDirection) * senseDistance\n",
        "  let sensingPosition = positions.expandingShape(at: 1) + sensingOffset\n",
        "  let sensingIndices = abs(Tensor<Int32>(sensingPosition))\n",
        "    % (gridShape.expandingShape(at: 0).expandingShape(at: 0))\n",
        "  let sensedValues = currentGrid.expandingShape(at: 2)\n",
        "    .dimensionGathering(atIndices: sensingIndices).squeezingShape(at: 2)\n",
        "  \n",
        "  // Move\n",
        "  let lowValues = sensedValues.argmin(squeezingAxis: -1)\n",
        "  let highValues = sensedValues.argmax(squeezingAxis: -1)\n",
        "  let middleMask = lowValues.mask { $0 .== 1 }\n",
        "  let middleDistribution = Tensor<Float>(randomUniform: [particleCount], on: device)\n",
        "  let randomTurn = middleDistribution.mask { $0 .< 0.1 } * Tensor<Float>(middleMask)\n",
        "  let turn = Tensor<Float>(highValues - 1) * Tensor<Float>(1 - middleMask) + randomTurn\n",
        "  headings += (turn * moveAngle)\n",
        "  positions += angleToVector(headings) * moveStep\n",
        "  \n",
        "  // Deposit\n",
        "  let depositIndices = abs(Tensor<Int32>(positions)) % (gridShape.expandingShape(at: 0))\n",
        "  let deposits = scatterValues.dimensionScattering(atIndices: depositIndices, shape: gridShape)\n",
        "  currentGrid += deposits\n",
        "  \n",
        "  // Diffuse\n",
        "  currentGrid = currentGrid.expandingShape(at: 0).expandingShape(at: 3)\n",
        "  currentGrid = currentGrid.padded(forSizes: [(0, 0), (1, 1), (1, 1), (0, 0)], mode: .reflect)\n",
        "  currentGrid = avgPool2D(currentGrid, filterSize: (1, 3, 3, 1), strides: (1, 1, 1, 1), padding: .valid)\n",
        "  currentGrid = currentGrid * evaporationRate\n",
        "  grid[1 - phase] = currentGrid.squeezingShape(at: 3).squeezingShape(at: 0)\n",
        "}"
      ],
      "execution_count": null,
      "outputs": []
    },
    {
      "cell_type": "markdown",
      "metadata": {
        "id": "Te7sNNx9c_am"
      },
      "source": [
        "## Running the model\n",
        "With the stepping function defined, we can run the model for a set number of steps. The phase is alternated on each step. The grid tensor is captured at each step for later use in constructing an animation of the evolution of the grid over time."
      ]
    },
    {
      "cell_type": "code",
      "metadata": {
        "id": "3yF4vWcBJTiz"
      },
      "source": [
        "let stepCount = 100\n",
        "\n",
        "var steps: [Tensor<Float>] = []\n",
        "for stepIndex in 0..<stepCount {\n",
        "  step(phase: stepIndex % 2)\n",
        "  LazyTensorBarrier()\n",
        "  steps.append(grid[0].expandingShape(at: 2) * 255.0)\n",
        "}"
      ],
      "execution_count": null,
      "outputs": []
    },
    {
      "cell_type": "markdown",
      "metadata": {
        "id": "ERP_1BL9JSvu"
      },
      "source": [
        "Finally, an animated GIF of the grid evolution can be generated and displayed:"
      ]
    },
    {
      "cell_type": "code",
      "metadata": {
        "id": "MaN7fM-lAe7r"
      },
      "source": [
        "try steps.saveAnimatedImage(directory: \"output\", name: \"physarum\", delay: 1)\n",
        "showImageFile(\"output/physarum.gif\")"
      ],
      "execution_count": null,
      "outputs": []
    },
    {
      "cell_type": "code",
      "metadata": {
        "id": "n1kY86I-Jjog"
      },
      "source": [
        ""
      ],
      "execution_count": null,
      "outputs": []
    }
  ]
}